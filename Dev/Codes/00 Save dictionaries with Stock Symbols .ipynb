{
 "cells": [
  {
   "cell_type": "markdown",
   "metadata": {},
   "source": [
    "# Download the data"
   ]
  },
  {
   "cell_type": "markdown",
   "metadata": {},
   "source": [
    "   "
   ]
  },
  {
   "cell_type": "markdown",
   "metadata": {},
   "source": [
    "## Summary: Create lists with updated stocks yahoo finance codes to download the data"
   ]
  },
  {
   "cell_type": "markdown",
   "metadata": {},
   "source": [
    "        "
   ]
  },
  {
   "cell_type": "markdown",
   "metadata": {},
   "source": [
    "        "
   ]
  },
  {
   "cell_type": "code",
   "execution_count": 1,
   "metadata": {},
   "outputs": [],
   "source": [
    "# Import required libraries\n",
    "import os\n",
    "import pickle"
   ]
  },
  {
   "cell_type": "code",
   "execution_count": 2,
   "metadata": {},
   "outputs": [
    {
     "name": "stdout",
     "output_type": "stream",
     "text": [
      "C:\\Users\\sidhu\\OneDrive\\Indian-Markets-Trading-Strategy\\Dev\\Codes\n"
     ]
    }
   ],
   "source": [
    "# Get current working directory\n",
    "mycwd = os.getcwd()\n",
    "print(mycwd)"
   ]
  },
  {
   "cell_type": "code",
   "execution_count": 3,
   "metadata": {},
   "outputs": [],
   "source": [
    "# Change to data directory\n",
    "os.chdir(\"..\")\n",
    "os.chdir(str(os.getcwd()) + \"\\\\Models\")"
   ]
  },
  {
   "cell_type": "markdown",
   "metadata": {},
   "source": [
    "### Define Dictionary for NIFTY50"
   ]
  },
  {
   "cell_type": "code",
   "execution_count": 4,
   "metadata": {},
   "outputs": [],
   "source": [
    "# Define NIFTY50 yahoo finance tickers\n",
    "NIFTY50 = {\"ADANIPORTS\": \"ADANIPORTS.NS\", \"ASIANPAINT\": \"ASIANPAINT.NS\", \"AXISBANK\": \"AXISBANK.NS\",\n",
    "           \"BAJAJ-AUTO\": \"BAJAJ-AUTO.NS\",  \"BAJAJFINSV\": \"BAJAJFINSV.NS\", \"BAJFINANCE\": \"BAJFINANCE.NS\", \n",
    "           \"BHARTIARTL\": \"BHARTIARTL.NS\", \"BPCL\": \"BPCL.NS\", \"BRITANNIA\": \"BRITANNIA.NS\", \"CIPLA\": \"CIPLA.NS\", \n",
    "           \"COALINDIA\": \"COALINDIA.NS\", \"DIVISLAB\": \"DIVISLAB.NS\", \"DRREDDY\": \"DRREDDY.NS\", \"EICHERMOT\": \"EICHERMOT.NS\", \n",
    "           \"GAIL\": \"GAIL.NS\", \"GRASIM\": \"GRASIM.NS\", \"HCLTECH\": \"HCLTECH.NS\", \"HDFC\": \"HDFC.NS\", \"HDFCBANK\": \"HDFCBANK.NS\",\n",
    "           \"HDFCLIFE\": \"HDFCLIFE.NS\", \"HEROMOTOCO\": \"HEROMOTOCO.NS\", \"HINDALCO\": \"HINDALCO.NS\", \n",
    "           \"HINDUNILVR\": \"HINDUNILVR.NS\", \"ICICIBANK\": \"ICICIBANK.NS\", \"INDUSINDBK\": \"INDUSINDBK.NS\", \"INFY\": \"INFY.NS\", \n",
    "           \"IOC\": \"IOC.NS\", \"ITC\": \"ITC.NS\", \"JSWSTEEL\": \"JSWSTEEL.NS\", \"KOTAKBANK\": \"KOTAKBANK.NS\", \"LT\": \"LT.NS\",\n",
    "           \"M&M\": \"M&M.NS\", \"MARUTI\": \"MARUTI.NS\", \"NESTLEIND\": \"NESTLEIND.NS\", \"NTPC\": \"NTPC.NS\", \"ONGC\": \"ONGC.NS\",\n",
    "           \"POWERGRID\": \"POWERGRID.NS\", \"RELIANCE\": \"RELIANCE.NS\", \"SBILIFE\": \"SBILIFE.NS\", \"SBIN\": \"SBIN.NS\",\n",
    "           \"SHREECEM\": \"SHREECEM.NS\", \"SUNPHARMA\": \"SUNPHARMA.NS\", \"TATAMOTORS\": \"TATAMOTORS.NS\",\n",
    "           \"TATASTEEL\": \"TATASTEEL.NS\", \"TCS\": \"TCS.NS\", \"TECHM\": \"TECHM.NS\", \"TITAN\": \"TITAN.NS\",\n",
    "           \"ULTRACEMCO\": \"ULTRACEMCO.NS\", \"UPL\": \"UPL.NS\", \"WIPRO\": \"WIPRO.NS\" }"
   ]
  },
  {
   "cell_type": "code",
   "execution_count": 5,
   "metadata": {},
   "outputs": [],
   "source": [
    "# Save the NIFTY50 Tickers dictionary\n",
    "with open('NIFTY50.pkl', 'wb') as f:\n",
    "    pickle.dump(NIFTY50, f, pickle.HIGHEST_PROTOCOL)"
   ]
  },
  {
   "cell_type": "code",
   "execution_count": 6,
   "metadata": {},
   "outputs": [],
   "source": [
    "# Define NIFTYNEXT50 tickers\n",
    "NIFTYNEXT50 = {\"ABBOTINDIA\": \"ABBOTINDIA.NS\", \"ACC\": \"ACC.NS\", \"ADANIGREEN\": \"ADANIGREEN.NS\", \n",
    "               \"ADANITRANS\": \"ADANITRANS.NS\", \"ALKEM\": \"ALKEM.NS\", \"AMBUJACEM\": \"AMBUJACEM.NS\", \n",
    "               \"AUROPHARMA\": \"AUROPHARMA.NS\", \"BAJAJHLDNG\": \"BAJAJHLDNG.NS\", \"BANDHANBNK\": \"BANDHANBNK.NS\", \n",
    "               \"BANKBARODA\": \"BANKBARODA.NS\", \"BERGEPAINT\": \"BERGEPAINT.NS\", \"BIOCON\": \"BIOCON.NS\", \n",
    "               \"BOSCHLTD\": \"BOSCHLTD.NS\", \"CADILAHC\": \"CADILAHC.NS\", \"COLPAL\": \"COLPAL.NS\", \"CONCOR\": \"CONCOR.NS\",\n",
    "               \"DABUR\": \"DABUR.NS\", \"DLF\": \"DLF.NS\", \"DMART\": \"DMART.NS\", \"GICRE\": \"GICRE.NS\", \"GODREJCP\": \"GODREJCP.NS\",\n",
    "               \"HAVELLS\": \"HAVELLS.NS\", \"HDFCAMC\": \"HDFCAMC.NS\", \"HINDPETRO\": \"HINDPETRO.NS\", \"HINDZINC\": \"HINDZINC.NS\",\n",
    "               \"ICICIGI\": \"ICICIGI.NS\", \"ICICIPRULI\": \"ICICIPRULI.NS\", \"IGL\": \"IGL.NS\", \"INDIGO\": \"INDIGO.NS\", \n",
    "               \"INDUSTOWER\": \"INDUSTOWER.NS\", \"LTI\": \"LTI.NS\", \"LUPIN\": \"LUPIN.NS\", \"MARICO\": \"MARICO.NS\", \n",
    "               \"MCDOWELL-N\": \"MCDOWELL-N.NS\", \"MOTHERSUMI\": \"MOTHERSUMI.NS\", \"MUTHOOTFIN\": \"MUTHOOTFIN.NS\",\n",
    "               \"NAUKRI\": \"NAUKRI.NS\", \"NMDC\": \"NMDC.NS\", \"OFSS\": \"OFSS.NS\", \"PEL\": \"PEL.NS\", \"PETRONET\": \"PETRONET.NS\",\n",
    "               \"PFC\": \"PFC.NS\", \"PGHH\": \"PGHH.NS\", \"PIDILITIND\": \"PIDILITIND.NS\", \"PNB\": \"PNB.NS\", \"SBICARD\": \"SBICARD.NS\",\n",
    "               \"SIEMENS\": \"SIEMENS.NS\", \"TATACONSUM\": \"TATACONSUM.NS\", \"TORNTPHARM\": \"TORNTPHARM.NS\", \"UBL\": \"UBL.NS\"}"
   ]
  },
  {
   "cell_type": "code",
   "execution_count": 7,
   "metadata": {},
   "outputs": [],
   "source": [
    "# Save NIFTYNEXT50 tickers dictionary\n",
    "with open('NIFTYNEXT50.pkl', 'wb') as f:\n",
    "    pickle.dump(NIFTYNEXT50, f, pickle.HIGHEST_PROTOCOL)"
   ]
  },
  {
   "cell_type": "code",
   "execution_count": 8,
   "metadata": {},
   "outputs": [],
   "source": [
    "# Define NIFTYMIDCAP100 dictionary\n",
    "NIFTYMIDCAP100 = {\"AARTIIND\": \"AARTIIND.NS\", \"ABCAPITAL\": \"ABCAPITAL.NS\", \"ABFRL\": \"ABFRL.NS\", \"ADANIENT\": \"ADANIENT.NS\", \n",
    "                  \"AJANTPHARM\": \"AJANTPHARM.NS\", \"AMARAJABAT\": \"AMARAJABAT.NS\", \"APLLTD\": \"APLLTD.NS\", \n",
    "                  \"APOLLOHOSP\": \"APOLLOHOSP.NS\", \"APOLLOTYRE\": \"APOLLOTYRE.NS\", \"ASHOKLEY\": \"ASHOKLEY.NS\", \n",
    "                  \"ATGL\": \"ATGL.NS\", \"AUBANK\": \"AUBANK.NS\", \"BALKRISIND\": \"BALKRISIND.NS\", \"BANKINDIA\": \"BANKINDIA.NS\", \n",
    "                  \"BATAINDIA\": \"BATAINDIA.NS\", \"BBTC\": \"BBTC.NS\", \"BEL\": \"BEL.NS\", \"BHARATFORG\": \"BHARATFORG.NS\", \n",
    "                  \"BHEL\": \"BHEL.NS\", \"CANBK\": \"CANBK.NS\", \"CASTROLIND\": \"CASTROLIND.NS\", \"CESC\": \"CESC.NS\", \n",
    "                  \"CHOLAFIN\": \"CHOLAFIN.NS\", \"COFORGE\": \"COFORGE.NS\", \"COROMANDEL\": \"COROMANDEL.NS\", \n",
    "                  \"CROMPTON\": \"CROMPTON.NS\", \"CUB\": \"CUB.NS\", \"CUMMINSIND\": \"CUMMINSIND.NS\", \"DALBHARAT\": \"DALBHARAT.NS\",\n",
    "                  \"DHANI\": \"DHANI.NS\", \"EDELWEISS\": \"EDELWEISS.NS\", \"EMAMILTD\": \"EMAMILTD.NS\", \"ENDURANCE\": \"ENDURANCE.NS\",\n",
    "                  \"ESCORTS\": \"ESCORTS.NS\", \"EXIDEIND\": \"EXIDEIND.NS\", \"FEDERALBNK\": \"FEDERALBNK.NS\", \"FORTIS\": \"FORTIS.NS\",\n",
    "                  \"FRETAIL\": \"FRETAIL.NS\", \"GLENMARK\": \"GLENMARK.NS\", \"GMRINFRA\": \"GMRINFRA.NS\", \n",
    "                  \"GODREJAGRO\": \"GODREJAGRO.NS\", \"GODREJIND\": \"GODREJIND.NS\", \"GODREJPROP\": \"GODREJPROP.NS\", \n",
    "                  \"GSPL\": \"GSPL.NS\", \"GUJGASLTD\": \"GUJGASLTD.NS\", \"HUDCO\": \"HUDCO.NS\", \"IBULHSGFIN\": \"IBULHSGFIN.NS\",\n",
    "                  \"IDEA\": \"IDEA.NS\", \"IDFCFIRSTB\": \"IDFCFIRSTB.NS\", \"INDHOTEL\": \"INDHOTEL.NS\", \"IPCALAB\": \"IPCALAB.NS\",\n",
    "                  \"IRCTC\": \"IRCTC.NS\", \"ISEC\": \"ISEC.NS\", \"JINDALSTEL\": \"JINDALSTEL.NS\", \"JSWENERGY\": \"JSWENERGY.NS\",\n",
    "                  \"JUBLFOOD\": \"JUBLFOOD.NS\", \"L&TFH\": \"L&TFH.NS\", \"LALPATHLAB\": \"LALPATHLAB.NS\", \n",
    "                  \"LICHSGFIN\": \"LICHSGFIN.NS\", \"LTTS\": \"LTTS.NS\", \"M&MFIN\": \"M&MFIN.NS\", \"MANAPPURAM\": \"MANAPPURAM.NS\",\n",
    "                  \"MFSL\": \"MFSL.NS\", \"MGL\": \"MGL.NS\", \"MINDTREE\": \"MINDTREE.NS\", \"MPHASIS\": \"MPHASIS.NS\", \"MRF\": \"MRF.NS\",\n",
    "                  \"NAM-INDIA\": \"NAM-INDIA.NS\", \"NATCOPHARM\": \"NATCOPHARM.NS\", \"NATIONALUM\": \"NATIONALUM.NS\", \n",
    "                  \"NAVINFLUOR\": \"NAVINFLUOR.NS\", \"OBEROIRLTY\": \"OBEROIRLTY.NS\", \"OIL\": \"OIL.NS\", \"PAGEIND\": \"PAGEIND.NS\", \n",
    "                  \"PFIZER\": \"PFIZER.NS\", \"PIIND\": \"PIIND.NS\", \"POLYCAB\": \"POLYCAB.NS\", \"PRESTIGE\": \"PRESTIGE.NS\", \n",
    "                  \"RAJESHEXPO\": \"RAJESHEXPO.NS\", \"RAMCOCEM\": \"RAMCOCEM.NS\", \"RBLBANK\": \"RBLBANK.NS\", \"RECLTD\": \"RECLTD.NS\",\n",
    "                  \"SAIL\": \"SAIL.NS\", \"SANOFI\": \"SANOFI.NS\", \"SRF\": \"SRF.NS\", \"SRTRANSFIN\": \"SRTRANSFIN.NS\", \n",
    "                  \"SUNTV\": \"SUNTV.NS\", \"SYNGENE\": \"SYNGENE.NS\", \"TATACHEM\": \"TATACHEM.NS\", \"TATAPOWER\": \"TATAPOWER.NS\", \n",
    "                  \"TORNTPOWER\": \"TORNTPOWER.NS\", \"TRENT\": \"TRENT.NS\", \"TVSMOTOR\": \"TVSMOTOR.NS\", \n",
    "                  \"UNIONBANK\": \"UNIONBANK.NS\", \"VBL\": \"VBL.NS\", \"VGUARD\": \"VGUARD.NS\", \"VOLTAS\": \"VOLTAS.NS\", \n",
    "                  \"WHIRLPOOL\": \"WHIRLPOOL.NS\", \"YESBANK\": \"YESBANK.NS\", \"ZEEL\": \"ZEEL.NS\"}"
   ]
  },
  {
   "cell_type": "code",
   "execution_count": 9,
   "metadata": {},
   "outputs": [],
   "source": [
    "# Save NIFTYMIDCAP100 dictionary\n",
    "with open('NIFTYMIDCAP100.pkl', 'wb') as f:\n",
    "    pickle.dump(NIFTYMIDCAP100, f, pickle.HIGHEST_PROTOCOL)"
   ]
  },
  {
   "cell_type": "code",
   "execution_count": 10,
   "metadata": {},
   "outputs": [],
   "source": [
    "# Define dictionary for other indices\n",
    "OTHERINDICES = {\n",
    "    \"INDIAVIX\": \"^INDIAVIX\"\n",
    "}"
   ]
  },
  {
   "cell_type": "code",
   "execution_count": 11,
   "metadata": {},
   "outputs": [],
   "source": [
    "# Save other indices dictionary\n",
    "with open('OTHERINDICES.pkl', 'wb') as f:\n",
    "    pickle.dump(OTHERINDICES, f, pickle.HIGHEST_PROTOCOL)"
   ]
  },
  {
   "cell_type": "markdown",
   "metadata": {},
   "source": [
    "__Comments:__ All dictionaries are saved in \"//Data\" folder and should be updated in case of any error. To change the strategy for other market economy, please redefine the dictionaries as per the market with \"Yahoo finance Tickers\""
   ]
  },
  {
   "cell_type": "markdown",
   "metadata": {},
   "source": [
    "          "
   ]
  },
  {
   "cell_type": "markdown",
   "metadata": {},
   "source": [
    "           "
   ]
  }
 ],
 "metadata": {
  "kernelspec": {
   "display_name": "Python 3",
   "language": "python",
   "name": "python3"
  },
  "language_info": {
   "codemirror_mode": {
    "name": "ipython",
    "version": 3
   },
   "file_extension": ".py",
   "mimetype": "text/x-python",
   "name": "python",
   "nbconvert_exporter": "python",
   "pygments_lexer": "ipython3",
   "version": "3.7.6"
  }
 },
 "nbformat": 4,
 "nbformat_minor": 4
}
