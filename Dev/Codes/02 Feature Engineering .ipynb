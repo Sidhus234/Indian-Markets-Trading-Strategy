{
 "cells": [
  {
   "cell_type": "markdown",
   "metadata": {},
   "source": [
    "# Feature Engineering"
   ]
  },
  {
   "cell_type": "markdown",
   "metadata": {},
   "source": [
    "        "
   ]
  },
  {
   "cell_type": "markdown",
   "metadata": {},
   "source": [
    "## Summary: This code will be used to calculate the features required for the strategy\n",
    "\n",
    "    1. Moving Average: 10, 20, 50, 100, 200 Days\n",
    "    \n",
    "    2. Exponential Moving Averages: 10, 20, 50, 100, 200 Days\n",
    "    \n",
    "    3. Green/Red Bar: If Close > Open then \"Green\" else \"Red\""
   ]
  },
  {
   "cell_type": "markdown",
   "metadata": {},
   "source": [
    "        "
   ]
  },
  {
   "cell_type": "markdown",
   "metadata": {},
   "source": [
    "        "
   ]
  },
  {
   "cell_type": "code",
   "execution_count": 1,
   "metadata": {},
   "outputs": [],
   "source": [
    "# Import required libraries\n",
    "import warnings\n",
    "warnings.filterwarnings('ignore')\n",
    "import numpy as np\n",
    "import pandas as pd\n",
    "import os\n",
    "import pickle"
   ]
  },
  {
   "cell_type": "code",
   "execution_count": 2,
   "metadata": {},
   "outputs": [
    {
     "name": "stdout",
     "output_type": "stream",
     "text": [
      "C:\\Users\\sidhu\\OneDrive\\Indian-Markets-Trading-Strategy\\Dev\\Codes\n"
     ]
    }
   ],
   "source": [
    "# Get current working directory\n",
    "mycwd = os.getcwd()\n",
    "print(mycwd)"
   ]
  },
  {
   "cell_type": "markdown",
   "metadata": {},
   "source": [
    "         "
   ]
  },
  {
   "cell_type": "markdown",
   "metadata": {},
   "source": [
    "## Functions"
   ]
  },
  {
   "cell_type": "code",
   "execution_count": 3,
   "metadata": {},
   "outputs": [],
   "source": [
    "def Get_FeaturedVars(filename):\n",
    "    \"\"\"\n",
    "    Add below features to the df and save it\n",
    "        1. Moving Averages: 10, 20, 50, 100, and 200 Days\n",
    "        2. Exponential Moving Averages: 10, 20, 50, 100, and 200 Days\n",
    "        3. Green/Red Candle: If Close > Open then \"Green\" else \"Red\"\n",
    "    \"\"\"\n",
    "    # Read the file\n",
    "    df = pd.read_csv(filename+\".csv\", index_col = \"Date\")\n",
    "    # Add Moving Averages\n",
    "    df['MA 10'] = df['Adj Close'].rolling(window=10).mean()\n",
    "    df['MA 20'] = df['Adj Close'].rolling(window=20).mean()\n",
    "    df['MA 50'] = df['Adj Close'].rolling(window=50).mean()\n",
    "    df['MA 100'] = df['Adj Close'].rolling(window=100).mean()\n",
    "    df['MA 200'] = df['Adj Close'].rolling(window=200).mean()\n",
    "    # Add Exponential moving Averages\n",
    "    # For more details refer below link\n",
    "    # https://en.wikipedia.org/wiki/Moving_average\n",
    "    df['EMA 10'] = df['Adj Close'].ewm(alpha = 2/(10+1), adjust=True).mean()\n",
    "    df['EMA 20'] = df['Adj Close'].ewm(alpha = 2/(20+1), adjust=True).mean()\n",
    "    df['EMA 50'] = df['Adj Close'].ewm(alpha = 2/(50+1), adjust=True).mean()\n",
    "    df['EMA 100'] = df['Adj Close'].ewm(alpha = 2/(100+1), adjust=True).mean()\n",
    "    df['EMA 200'] = df['Adj Close'].ewm(alpha = 2/(200+1), adjust=True).mean()\n",
    "    # Add whether it is Red/Green candle (1: Green, 0: Red)\n",
    "    df['Candle'] = np.where(df['Close'] > df['Open'], 1, 0)\n",
    "    # Save it to csv file\n",
    "    df.to_csv(filename+\".csv\", index=True)\n",
    "    return df"
   ]
  },
  {
   "cell_type": "markdown",
   "metadata": {},
   "source": [
    "       "
   ]
  },
  {
   "cell_type": "markdown",
   "metadata": {},
   "source": [
    "## Part 1: Read the Dictionaries"
   ]
  },
  {
   "cell_type": "code",
   "execution_count": 4,
   "metadata": {},
   "outputs": [],
   "source": [
    "# Change to Models directory to read the dictionaries storing \"tickers\"\n",
    "os.chdir(\"..\")\n",
    "os.chdir(str(os.getcwd()) + \"\\\\Models\")"
   ]
  },
  {
   "cell_type": "code",
   "execution_count": 5,
   "metadata": {},
   "outputs": [],
   "source": [
    "# Read NIFTY50 Dictionary\n",
    "with open('NIFTY50.pkl', 'rb') as f:\n",
    "    NIFTY50 = pickle.load(f)"
   ]
  },
  {
   "cell_type": "code",
   "execution_count": 6,
   "metadata": {},
   "outputs": [],
   "source": [
    "# Read NIFTYNEXT50 Dictionary\n",
    "with open('NIFTYNEXT50.pkl', 'rb') as f:\n",
    "    NIFTYNEXT50 = pickle.load(f)"
   ]
  },
  {
   "cell_type": "code",
   "execution_count": 7,
   "metadata": {},
   "outputs": [],
   "source": [
    "# Read NIFTYMIDCAP100 Dictionary\n",
    "with open('NIFTYMIDCAP100.pkl', 'rb') as f:\n",
    "    NIFTYMIDCAP100 = pickle.load(f)"
   ]
  },
  {
   "cell_type": "code",
   "execution_count": 8,
   "metadata": {},
   "outputs": [],
   "source": [
    "# Read OTHERINDICES Dictionary\n",
    "with open('OTHERINDICES.pkl', 'rb') as f:\n",
    "    OTHERINDICES = pickle.load(f)"
   ]
  },
  {
   "cell_type": "markdown",
   "metadata": {},
   "source": [
    "<span style=\"color:Green\"> __Comments:__ To explore the code for other markets, please make relevant changes in above dictionaries "
   ]
  },
  {
   "cell_type": "markdown",
   "metadata": {},
   "source": [
    "           "
   ]
  },
  {
   "cell_type": "markdown",
   "metadata": {},
   "source": [
    "        "
   ]
  },
  {
   "cell_type": "markdown",
   "metadata": {},
   "source": [
    "## Part 2: Feature Engineering"
   ]
  },
  {
   "cell_type": "markdown",
   "metadata": {},
   "source": [
    "     "
   ]
  },
  {
   "cell_type": "code",
   "execution_count": 9,
   "metadata": {},
   "outputs": [],
   "source": [
    "# Change to Data directory to read the dictionaries storing \"tickers\"\n",
    "os.chdir(\"..\")\n",
    "os.chdir(str(os.getcwd()) + \"\\\\Data\")"
   ]
  },
  {
   "cell_type": "markdown",
   "metadata": {},
   "source": [
    "### Part 2.1: Feature Engineering for NIFTY50 stocks"
   ]
  },
  {
   "cell_type": "code",
   "execution_count": 10,
   "metadata": {},
   "outputs": [],
   "source": [
    "# Create a list of NIFTY50 Stocks\n",
    "NIFTY50_KEYS = list(NIFTY50.keys())"
   ]
  },
  {
   "cell_type": "code",
   "execution_count": 11,
   "metadata": {},
   "outputs": [],
   "source": [
    "# Loop over the NIFTY50 list and save the data for the stock\n",
    "for stock in NIFTY50_KEYS:\n",
    "    Get_FeaturedVars(stock)"
   ]
  },
  {
   "cell_type": "markdown",
   "metadata": {},
   "source": [
    "         "
   ]
  },
  {
   "cell_type": "markdown",
   "metadata": {},
   "source": [
    "### Part 2.2: Feature Engineering for NIFTYNEXT50 stocks"
   ]
  },
  {
   "cell_type": "code",
   "execution_count": 12,
   "metadata": {},
   "outputs": [],
   "source": [
    "# Create a list of NIFTYNEXT50 Stocks\n",
    "NIFTYNEXT50_KEYS = list(NIFTYNEXT50.keys())"
   ]
  },
  {
   "cell_type": "code",
   "execution_count": 13,
   "metadata": {},
   "outputs": [],
   "source": [
    "# Loop over the NIFTYNEXT50 list and save the data for the stock\n",
    "for stock in NIFTYNEXT50_KEYS:\n",
    "    Get_FeaturedVars(stock)"
   ]
  },
  {
   "cell_type": "markdown",
   "metadata": {},
   "source": [
    "          "
   ]
  },
  {
   "cell_type": "markdown",
   "metadata": {},
   "source": [
    "### Part 2.3: Feature Engineering for NIFTYMIDCAP100 stocks"
   ]
  },
  {
   "cell_type": "code",
   "execution_count": 14,
   "metadata": {},
   "outputs": [],
   "source": [
    "# Create a list of NIFTYMIDCAP100 Stocks\n",
    "NIFTYMIDCAP100_KEYS = list(NIFTYMIDCAP100.keys())"
   ]
  },
  {
   "cell_type": "code",
   "execution_count": 15,
   "metadata": {},
   "outputs": [],
   "source": [
    "# Loop over the NIFTYMIDCAP100 list and save the data for the stock\n",
    "for stock in NIFTYMIDCAP100_KEYS:\n",
    "    Get_FeaturedVars(stock)"
   ]
  },
  {
   "cell_type": "markdown",
   "metadata": {},
   "source": [
    "### Part 2.3: Feature Engineering for OTHERINDICES"
   ]
  },
  {
   "cell_type": "code",
   "execution_count": 16,
   "metadata": {},
   "outputs": [],
   "source": [
    "# Create a list of OTHERINDICES Stocks\n",
    "OTHERINDICES_KEYS = list(OTHERINDICES.keys())"
   ]
  },
  {
   "cell_type": "code",
   "execution_count": 17,
   "metadata": {},
   "outputs": [],
   "source": [
    "# Loop over the OTHERINDICES list and save the data for the stock\n",
    "for stock in OTHERINDICES_KEYS:\n",
    "    Get_FeaturedVars(stock)"
   ]
  },
  {
   "cell_type": "markdown",
   "metadata": {},
   "source": [
    "        "
   ]
  },
  {
   "cell_type": "markdown",
   "metadata": {},
   "source": [
    "       "
   ]
  },
  {
   "cell_type": "markdown",
   "metadata": {},
   "source": [
    "<span style=\"color:Green\"> __Comments:__ All data are saved in \"//Data\" folder and should be updated in case of any error. To change the strategy for other market economy, please redefine the dictionary variable as per the market with \"Yahoo finance Tickers\""
   ]
  },
  {
   "cell_type": "markdown",
   "metadata": {},
   "source": [
    "      "
   ]
  },
  {
   "cell_type": "markdown",
   "metadata": {},
   "source": [
    "   "
   ]
  }
 ],
 "metadata": {
  "kernelspec": {
   "display_name": "Python 3",
   "language": "python",
   "name": "python3"
  },
  "language_info": {
   "codemirror_mode": {
    "name": "ipython",
    "version": 3
   },
   "file_extension": ".py",
   "mimetype": "text/x-python",
   "name": "python",
   "nbconvert_exporter": "python",
   "pygments_lexer": "ipython3",
   "version": "3.7.6"
  }
 },
 "nbformat": 4,
 "nbformat_minor": 4
}
